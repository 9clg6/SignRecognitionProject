{
 "cells": [
  {
   "cell_type": "code",
   "execution_count": 1,
   "metadata": {},
   "outputs": [],
   "source": [
    "#Import de toutes les bibliothèques\n",
    "import pandas as pd\n",
    "\n",
    "import numpy as np\n",
    "from numpy import array\n",
    "\n",
    "import cv2 as cv2\n",
    "\n",
    "import sklearn as sk\n",
    "from sklearn.model_selection import train_test_split\n",
    "from sklearn.tree import DecisionTreeClassifier\n",
    "from sklearn.metrics import accuracy_score\n",
    "from sklearn import metrics\n",
    "from sklearn.neighbors import KNeighborsClassifier\n",
    "from sklearn import svm\n",
    "\n",
    "from sklearn.neural_network import MLPClassifier\n",
    "from sklearn.gaussian_process import GaussianProcessClassifier\n",
    "from sklearn.gaussian_process.kernels import RBF\n",
    "\n",
    "\n",
    "import matplotlib.pyplot as plt\n",
    "import matplotlib.image as im\n"
   ]
  },
  {
   "cell_type": "code",
   "execution_count": 2,
   "metadata": {
    "scrolled": true
   },
   "outputs": [
    {
     "name": "stderr",
     "output_type": "stream",
     "text": [
      "<ipython-input-2-3bb5732b35fc>:1: ParserWarning: Falling back to the 'python' engine because the 'c' engine does not support regex separators (separators > 1 char and different from '\\s+' are interpreted as regex); you can avoid this warning by specifying engine='python'.\n",
      "  x = pd.read_csv('./50signDataset/GT-00002.csv', sep='\\;')\n"
     ]
    }
   ],
   "source": [
    "#Lecture du fichier contenant les images et leur id\n",
    "x = pd.read_csv('./50signDataset/GT-00002.csv', sep='\\;')\n",
    "y = pd.read_csv('./30signDataset/GT-00001.csv', sep=';')\n",
    "w = pd.read_csv('./60signDataset/GT-00003.csv', sep=';')\n",
    "z = pd.read_csv('./70signDataset/GT-00004.csv', sep=';')\n",
    "v = pd.read_csv('./80signDataset/GT-00005.csv', sep=';')"
   ]
  },
  {
   "cell_type": "code",
   "execution_count": 3,
   "metadata": {},
   "outputs": [],
   "source": [
    "#On défini d'abord le nom de l'image puis la classe\n",
    "nameOne = y.Filename\n",
    "is30Sign = y.ClassId\n",
    "\n",
    "nameTwo = x.Filename\n",
    "is50Sign = x.ClassId\n",
    "\n",
    "nameThree = w.Filename\n",
    "is60Sign = w.ClassId\n",
    "\n",
    "nameFour = z.Filename\n",
    "is70Sign = z.ClassId\n",
    "\n",
    "nameFive = v.Filename\n",
    "is80Sign = v.ClassId"
   ]
  },
  {
   "cell_type": "code",
   "execution_count": 4,
   "metadata": {},
   "outputs": [],
   "source": [
    "#Création d'un tableau d'images avec le nombre de pixel en ligne \n",
    "tabIThirty = np.zeros([2220,55*57])\n",
    "#Création d'un tableau d'id\n",
    "tabClassIdThirty = np.zeros([2220,1])\n",
    "\n",
    "#lecture de chaque image puis transformation en nuance de gris et recadrage en 55 par 57 pixels\n",
    "for i in range(1,2220) :\n",
    "    I=im.imread(\"30signDataset/\" + nameOne[i])\n",
    "    tabClassIdThirty[i] = is30Sign[i]\n",
    "    \n",
    "    IgrayOne=cv2.cvtColor(I, cv2.COLOR_BGR2GRAY)\n",
    "    IgrayOne=cv2.resize(IgrayOne,(57,55),interpolation = cv2.INTER_AREA)\n",
    "\n",
    "    #Création d'un tableau dans lequel on remet les pixels en ligne et colonnes pour vérifier de la bonne lecture\n",
    "    tabIThirty[i,:] = IgrayOne.reshape(IgrayOne.shape[0]*IgrayOne.shape[1])"
   ]
  },
  {
   "cell_type": "code",
   "execution_count": 5,
   "metadata": {},
   "outputs": [],
   "source": [
    "tabIFifty = np.zeros([2220,55*57])\n",
    "tabClassIdFifty= np.zeros([2220,1])\n",
    "\n",
    "for i in range(1,2220) :\n",
    "    I=im.imread(\"50signDataset/\" + nameTwo[i])\n",
    "    tabClassIdFifty[i] = is50Sign[i]\n",
    "    \n",
    "    IgrayTwo=cv2.cvtColor(I, cv2.COLOR_BGR2GRAY)\n",
    "    IgrayTwo=cv2.resize(IgrayTwo,(57,55),interpolation = cv2.INTER_AREA)\n",
    "\n",
    "    tabIFifty[i,:] = IgrayTwo.reshape(IgrayTwo.shape[0]*IgrayTwo.shape[1])\n",
    "    "
   ]
  },
  {
   "cell_type": "code",
   "execution_count": 6,
   "metadata": {},
   "outputs": [],
   "source": [
    "tabISixty = np.zeros([1410,55*57])\n",
    "tabClassIdSixty= np.zeros([1410,1])\n",
    "\n",
    "for i in range(1,1410) :\n",
    "    M=im.imread(\"60signDataset/\" + nameThree[i])\n",
    "    tabClassIdSixty[i] = is60Sign[i]\n",
    "    \n",
    "    IgrayThree=cv2.cvtColor(M, cv2.COLOR_BGR2GRAY)\n",
    "    IgrayThree=cv2.resize(IgrayThree,(57,55),interpolation = cv2.INTER_AREA)\n",
    "\n",
    "    tabISixty[i,:] = IgrayThree.reshape(IgrayThree.shape[0]*IgrayThree.shape[1])"
   ]
  },
  {
   "cell_type": "code",
   "execution_count": 7,
   "metadata": {
    "scrolled": true
   },
   "outputs": [],
   "source": [
    "tabISeventy = np.zeros([1410,55*57])\n",
    "tabClassIdSeventy= np.zeros([1410,1])\n",
    "\n",
    "for i in range(1,1410) :\n",
    "    N=im.imread(\"70signDataset/\" + nameFour[i])\n",
    "    tabClassIdSeventy[i] = is70Sign[i]\n",
    "    \n",
    "    IgrayFour=cv2.cvtColor(N, cv2.COLOR_BGR2GRAY)\n",
    "    IgrayFour=cv2.resize(IgrayFour,(57,55),interpolation = cv2.INTER_AREA)\n",
    "\n",
    "    tabISeventy[i,:] = IgrayFour.reshape(IgrayFour.shape[0]*IgrayFour.shape[1])"
   ]
  },
  {
   "cell_type": "code",
   "execution_count": 8,
   "metadata": {},
   "outputs": [],
   "source": [
    "tabIEighty = np.zeros([1860,55*57])\n",
    "tabClassIdEigthy= np.zeros([1860,1])\n",
    "\n",
    "for i in range(1,1860) :\n",
    "    O=im.imread(\"80signDataset/\" + nameFive[i])\n",
    "    tabClassIdEigthy[i] = is80Sign[i]\n",
    "    \n",
    "    IgrayFive=cv2.cvtColor(O, cv2.COLOR_BGR2GRAY)\n",
    "    IgrayFive=cv2.resize(IgrayFive,(57,55),interpolation = cv2.INTER_AREA)\n",
    "\n",
    "    tabIEighty[i,:] = IgrayFive.reshape(IgrayFive.shape[0]*IgrayFive.shape[1])"
   ]
  },
  {
   "cell_type": "code",
   "execution_count": null,
   "metadata": {},
   "outputs": [],
   "source": [
    "K=tabIThirty[1,:].reshape([55,57])\n",
    "\n",
    "L=tabIFifty[1,:].reshape([55,57])\n",
    "\n",
    "M=tabISixty[1,:].reshape([55,57])\n",
    "\n",
    "N=tabISeventy[1,:].reshape([55,57])\n",
    "\n",
    "O=tabIEighty[1,:].reshape([55,57])\n",
    "#affichage de l'image pour tester\n",
    "plt.imshow(K)"
   ]
  },
  {
   "cell_type": "code",
   "execution_count": 10,
   "metadata": {
    "scrolled": true
   },
   "outputs": [],
   "source": [
    "#Transformation en dataframe du tableau d'image et d'id\n",
    "final30SignTab = pd.DataFrame(tabIThirty)\n",
    "tabClassIdThirty = pd.DataFrame(tabClassIdThirty)\n",
    "\n",
    "final50SignTab = pd.DataFrame(tabIFifty)\n",
    "tabClassIdFifty = pd.DataFrame(tabClassIdFifty)\n",
    "\n",
    "final60SignTab = pd.DataFrame(tabISixty)\n",
    "tabClassIdSixty = pd.DataFrame(tabClassIdSixty)\n",
    "\n",
    "final70SignTab = pd.DataFrame(tabISeventy)\n",
    "tabClassIdSeventy = pd.DataFrame(tabClassIdSeventy)\n",
    "\n",
    "final80SignTab = pd.DataFrame(tabIEighty)\n",
    "tabClassIdEigthy = pd.DataFrame(tabClassIdEigthy)\n",
    "\n",
    "#Concaténation de tous les tableaux de classe\n",
    "finalClassIdTab = pd.concat([tabClassIdThirty,tabClassIdFifty,tabClassIdSixty,tabClassIdSeventy,tabClassIdEigthy])"
   ]
  },
  {
   "cell_type": "code",
   "execution_count": 11,
   "metadata": {},
   "outputs": [],
   "source": [
    "#Concaténation des tableaux d'images\n",
    "finalTotalTab = pd.concat([final50SignTab,final30SignTab, final60SignTab,final70SignTab,final80SignTab], ignore_index=True)"
   ]
  },
  {
   "cell_type": "code",
   "execution_count": 12,
   "metadata": {},
   "outputs": [],
   "source": [
    "#Séparation du tableau finalTotalTab en tableau d'images de test et d'entrainement avec 35% de test\n",
    "xtrain, xtest, ytrain, ytest = train_test_split(finalTotalTab, finalClassIdTab, test_size=0.35, random_state=42)"
   ]
  },
  {
   "cell_type": "code",
   "execution_count": 13,
   "metadata": {},
   "outputs": [
    {
     "name": "stdout",
     "output_type": "stream",
     "text": [
      "pourcentage: 0.65\n"
     ]
    }
   ],
   "source": [
    "print('pourcentage:' ,xtrain.shape[0]/finalTotalTab.shape[0])"
   ]
  },
  {
   "cell_type": "code",
   "execution_count": 14,
   "metadata": {},
   "outputs": [
    {
     "data": {
      "text/plain": [
       "0.7760025062656641"
      ]
     },
     "execution_count": 14,
     "metadata": {},
     "output_type": "execute_result"
    }
   ],
   "source": [
    "# Classification par arbre de décision\n",
    "Arbre_decision = DecisionTreeClassifier(random_state=0, max_depth=20)\n",
    "clf = Arbre_decision.fit(xtrain, ytrain)\n",
    "\n",
    "ypredit = clf.predict(xtest)\n",
    "accuracy_score(ytest, ypredit)"
   ]
  },
  {
   "cell_type": "code",
   "execution_count": 15,
   "metadata": {},
   "outputs": [
    {
     "name": "stdout",
     "output_type": "stream",
     "text": [
      "[[616  57  33  37  63]\n",
      " [ 74 640   7  26  31]\n",
      " [ 28   5 395   8  62]\n",
      " [ 25  50  10 379  15]\n",
      " [ 57  42  56  29 447]]\n"
     ]
    }
   ],
   "source": [
    "#Affichage des erreurs\n",
    "print(metrics.confusion_matrix(ytest, ypredit))"
   ]
  },
  {
   "cell_type": "code",
   "execution_count": 16,
   "metadata": {},
   "outputs": [
    {
     "name": "stderr",
     "output_type": "stream",
     "text": [
      "<ipython-input-16-9154b46fadfb>:4: DataConversionWarning: A column-vector y was passed when a 1d array was expected. Please change the shape of y to (n_samples, ), for example using ravel().\n",
      "  clf = KNN .fit(xtrain, ytrain)\n"
     ]
    },
    {
     "data": {
      "text/plain": [
       "0.8336466165413534"
      ]
     },
     "execution_count": 16,
     "metadata": {},
     "output_type": "execute_result"
    }
   ],
   "source": [
    "#Classification par voisin le plus proche\n",
    "\n",
    "KNN = KNeighborsClassifier()\n",
    "clf = KNN .fit(xtrain, ytrain)\n",
    "\n",
    "ypredit = clf.predict(xtest)\n",
    "accuracy_score(ytest, ypredit)"
   ]
  },
  {
   "cell_type": "code",
   "execution_count": 17,
   "metadata": {},
   "outputs": [
    {
     "name": "stdout",
     "output_type": "stream",
     "text": [
      "[[669  51  21  16  49]\n",
      " [ 53 683  12  10  20]\n",
      " [ 20  21 375  19  63]\n",
      " [ 21  23  22 394  19]\n",
      " [ 23  14  34  20 540]]\n"
     ]
    }
   ],
   "source": [
    "#Affichage des erreurs\n",
    "print(metrics.confusion_matrix(ytest, ypredit))"
   ]
  },
  {
   "cell_type": "code",
   "execution_count": 169,
   "metadata": {},
   "outputs": [
    {
     "name": "stderr",
     "output_type": "stream",
     "text": [
      "/Library/Frameworks/Python.framework/Versions/3.8/lib/python3.8/site-packages/sklearn/utils/validation.py:744: DataConversionWarning: A column-vector y was passed when a 1d array was expected. Please change the shape of y to (n_samples, ), for example using ravel().\n",
      "  y = column_or_1d(y, warn=True)\n"
     ]
    },
    {
     "data": {
      "text/plain": [
       "SVC(C=1.0, break_ties=False, cache_size=200, class_weight=None, coef0=0.0,\n",
       "    decision_function_shape='ovr', degree=3, gamma=0.001, kernel='rbf',\n",
       "    max_iter=-1, probability=False, random_state=None, shrinking=True,\n",
       "    tol=0.001, verbose=False)"
      ]
     },
     "execution_count": 169,
     "metadata": {},
     "output_type": "execute_result"
    }
   ],
   "source": [
    "#Classification par Support de vecteur \n",
    "clf = svm.SVC(gamma=0.001)\n",
    "clf.fit(xtrain,ytrain)"
   ]
  },
  {
   "cell_type": "code",
   "execution_count": 170,
   "metadata": {},
   "outputs": [
    {
     "data": {
      "text/plain": [
       "0.24404761904761904"
      ]
     },
     "execution_count": 170,
     "metadata": {},
     "output_type": "execute_result"
    }
   ],
   "source": [
    "ypredit = clf.predict(xtest)\n",
    "accuracy_score(ytest, ypredit)"
   ]
  },
  {
   "cell_type": "code",
   "execution_count": 171,
   "metadata": {},
   "outputs": [
    {
     "name": "stdout",
     "output_type": "stream",
     "text": [
      "[[  1 805   0   0   0]\n",
      " [  0 778   0   0   0]\n",
      " [  0 498   0   0   0]\n",
      " [  0 479   0   0   0]\n",
      " [  0 631   0   0   0]]\n"
     ]
    }
   ],
   "source": [
    "ypredit = clf.predict(xtest) \n",
    "print(metrics.confusion_matrix(ytest, ypredit))"
   ]
  },
  {
   "cell_type": "code",
   "execution_count": null,
   "metadata": {},
   "outputs": [],
   "source": [
    "#Classification par Procéder de Gauss\n",
    "gpc = GaussianProcessClassifier(1.0 * RBF(1.0),random_state=0)"
   ]
  },
  {
   "cell_type": "code",
   "execution_count": null,
   "metadata": {},
   "outputs": [],
   "source": [
    "gpc.fit(xtrain, ytrain)"
   ]
  },
  {
   "cell_type": "code",
   "execution_count": null,
   "metadata": {},
   "outputs": [],
   "source": [
    "ypredit = clf.predict(xtest)\n",
    "accuracy_score(ytest, ypredit)"
   ]
  },
  {
   "cell_type": "code",
   "execution_count": null,
   "metadata": {},
   "outputs": [],
   "source": []
  }
 ],
 "metadata": {
  "kernelspec": {
   "display_name": "Python 3",
   "language": "python",
   "name": "python3"
  },
  "language_info": {
   "codemirror_mode": {
    "name": "ipython",
    "version": 3
   },
   "file_extension": ".py",
   "mimetype": "text/x-python",
   "name": "python",
   "nbconvert_exporter": "python",
   "pygments_lexer": "ipython3",
   "version": "3.8.0"
  }
 },
 "nbformat": 4,
 "nbformat_minor": 2
}
