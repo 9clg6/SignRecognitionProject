{
 "cells": [
  {
   "cell_type": "code",
   "execution_count": 1,
   "metadata": {},
   "outputs": [],
   "source": [
    "import pandas as pd\n",
    "import numpy as np\n",
    "import cv2 as cv2\n",
    "\n",
    "from numpy import array\n",
    "import sklearn as sk\n",
    "from sklearn.model_selection import train_test_split\n",
    "import matplotlib.pyplot as plt\n",
    "import matplotlib.image as im\n",
    "\n"
   ]
  },
  {
   "cell_type": "code",
   "execution_count": 2,
   "metadata": {
    "scrolled": true
   },
   "outputs": [
    {
     "name": "stdout",
     "output_type": "stream",
     "text": [
      "<class 'pandas.core.frame.DataFrame'>\n",
      "RangeIndex: 2250 entries, 0 to 2249\n",
      "Data columns (total 8 columns):\n",
      "Filename    2250 non-null object\n",
      "Width       2250 non-null int64\n",
      "Height      2250 non-null int64\n",
      "Roi.X1      2250 non-null int64\n",
      "Roi.Y1      2250 non-null int64\n",
      "Roi.X2      2250 non-null int64\n",
      "Roi.Y2      2250 non-null int64\n",
      "ClassId     2250 non-null int64\n",
      "dtypes: int64(7), object(1)\n",
      "memory usage: 140.8+ KB\n",
      "<class 'pandas.core.frame.DataFrame'>\n",
      "RangeIndex: 2220 entries, 0 to 2219\n",
      "Data columns (total 8 columns):\n",
      "Filename    2220 non-null object\n",
      "Width       2220 non-null int64\n",
      "Height      2220 non-null int64\n",
      "Roi.X1      2220 non-null int64\n",
      "Roi.Y1      2220 non-null int64\n",
      "Roi.X2      2220 non-null int64\n",
      "Roi.Y2      2220 non-null int64\n",
      "ClassId     2220 non-null int64\n",
      "dtypes: int64(7), object(1)\n",
      "memory usage: 138.9+ KB\n"
     ]
    },
    {
     "name": "stderr",
     "output_type": "stream",
     "text": [
      "/usr/local/lib/python3.7/dist-packages/ipykernel_launcher.py:1: ParserWarning: Falling back to the 'python' engine because the 'c' engine does not support regex separators (separators > 1 char and different from '\\s+' are interpreted as regex); you can avoid this warning by specifying engine='python'.\n",
      "  \"\"\"Entry point for launching an IPython kernel.\n"
     ]
    }
   ],
   "source": [
    "x = pd.read_csv('./50signDataset/GT-00002.csv', sep='\\;')\n",
    "y = pd.read_csv('./30signDataset/GT-00001.csv', sep=';')\n",
    "z = pd.read_csv('./30signDataset/GT-00001.csv', sep='')\n",
    "\n",
    "x.info()\n",
    "y.info()\n"
   ]
  },
  {
   "cell_type": "code",
   "execution_count": 3,
   "metadata": {},
   "outputs": [],
   "source": [
    "nameOne = y.Filename\n",
    "is30Sign = y.ClassId\n",
    "\n",
    "nameTwo = x.Filename\n",
    "is50Sign = x.ClassId"
   ]
  },
  {
   "cell_type": "code",
   "execution_count": 4,
   "metadata": {},
   "outputs": [],
   "source": [
    "tabIThirty = np.zeros([2220,55*57])\n",
    "tabClassIdThirty = np.zeros([2220,1])\n",
    "\n",
    "for i in range(1,2220) :\n",
    "    I=im.imread(\"30signDataset/\" + nameOne[i])\n",
    "    tabClassIdThirty[i] = is30Sign[i]\n",
    "    \n",
    "    IgrayOne=cv2.cvtColor(I, cv2.COLOR_BGR2GRAY)\n",
    "    IgrayOne=cv2.resize(IgrayOne,(57,55),interpolation = cv2.INTER_AREA)\n",
    "\n",
    "    tabIThirty[i,:] = IgrayOne.reshape(IgrayOne.shape[0]*IgrayOne.shape[1])"
   ]
  },
  {
   "cell_type": "code",
   "execution_count": 5,
   "metadata": {},
   "outputs": [
    {
     "data": {
      "text/plain": [
       "<matplotlib.image.AxesImage at 0x7f53bc42acf8>"
      ]
     },
     "execution_count": 5,
     "metadata": {},
     "output_type": "execute_result"
    },
    {
     "data": {
      "image/png": "[encoded data removed]",
      "text/plain": [
       "<Figure size 432x288 with 1 Axes>"
      ]
     },
     "metadata": {
      "needs_background": "light"
     },
     "output_type": "display_data"
    }
   ],
   "source": [
    "K=tabIThirty[1,:].reshape([55,57])\n",
    "plt.imshow(K)"
   ]
  },
  {
   "cell_type": "code",
   "execution_count": 6,
   "metadata": {},
   "outputs": [],
   "source": [
    "tabIFifty = np.zeros([2220,55*57])\n",
    "tabClassIdFifty= np.zeros([2220,1])\n",
    "\n",
    "for i in range(1,2220) :\n",
    "    I=im.imread(\"50signDataset/\" + nameTwo[i])\n",
    "    tabClassIdFifty[i] = is50Sign[i]\n",
    "    \n",
    "    IgrayTwo=cv2.cvtColor(I, cv2.COLOR_BGR2GRAY)\n",
    "    IgrayTwo=cv2.resize(IgrayTwo,(57,55),interpolation = cv2.INTER_AREA)\n",
    "\n",
    "    tabIFifty[i,:] = IgrayTwo.reshape(IgrayTwo.shape[0]*IgrayTwo.shape[1])"
   ]
  },
  {
   "cell_type": "code",
   "execution_count": 7,
   "metadata": {},
   "outputs": [
    {
     "data": {
      "text/plain": [
       "<matplotlib.image.AxesImage at 0x7f53b89dfeb8>"
      ]
     },
     "execution_count": 7,
     "metadata": {},
     "output_type": "execute_result"
    },
    {
     "data": {
      "image/png": "[encoded data removed]",
      "text/plain": [
       "<Figure size 432x288 with 1 Axes>"
      ]
     },
     "metadata": {
      "needs_background": "light"
     },
     "output_type": "display_data"
    }
   ],
   "source": [
    "L=tabIFifty[1,:].reshape([55,57])\n",
    "plt.imshow(L)"
   ]
  },
  {
   "cell_type": "code",
   "execution_count": 29,
   "metadata": {},
   "outputs": [
    {
     "name": "stdout",
     "output_type": "stream",
     "text": [
      "<class 'pandas.core.frame.DataFrame'>\n",
      "<class 'pandas.core.frame.DataFrame'>\n"
     ]
    }
   ],
   "source": [
    "tabIThirty = pd.DataFrame(tabIThirty)\n",
    "tabClassIdThirty = pd.DataFrame(tabClassIdThirty)\n",
    "\n",
    "print(type(tabIThirty))\n",
    "print(type(tabClassIdThirty))\n",
    "\n",
    "final30SignTab = tabIThirty\n",
    "#print(type(final30SignTab))"
   ]
  },
  {
   "cell_type": "code",
   "execution_count": 30,
   "metadata": {
    "scrolled": true
   },
   "outputs": [
    {
     "name": "stdout",
     "output_type": "stream",
     "text": [
      "(2220, 3135)\n",
      "(2220, 3135)\n",
      "(2220, 3135)\n",
      "(4440, 1)\n"
     ]
    }
   ],
   "source": [
    "tabIFifty = pd.DataFrame(tabIFifty)\n",
    "tabClassIdFifty = pd.DataFrame(tabClassIdFifty)\n",
    "\n",
    "print(tabIFifty.shape)\n",
    "print(tabIThirty.shape)\n",
    "\n",
    "final50SignTab = tabIFifty\n",
    "\n",
    "finalClassIdTab = pd.concat([tabClassIdThirty,tabClassIdFifty])\n",
    "\n",
    "print(final50SignTab.shape)\n",
    "print(finalClassIdTab.shape)\n",
    "#print(type(final50SignTab))"
   ]
  },
  {
   "cell_type": "code",
   "execution_count": 31,
   "metadata": {},
   "outputs": [
    {
     "data": {
      "text/plain": [
       "(4440, 3135)"
      ]
     },
     "execution_count": 31,
     "metadata": {},
     "output_type": "execute_result"
    }
   ],
   "source": [
    "finalTotalTab = pd.concat([final50SignTab,final30SignTab], ignore_index=True)\n",
    "finalTotalTab.shape"
   ]
  },
  {
   "cell_type": "code",
   "execution_count": 43,
   "metadata": {},
   "outputs": [],
   "source": [
    "xtrain, xtest, ytrain, ytest = train_test_split(finalTotalTab, finalClassIdTab, test_size=0.35, random_state=42)"
   ]
  },
  {
   "cell_type": "code",
   "execution_count": 44,
   "metadata": {},
   "outputs": [
    {
     "name": "stdout",
     "output_type": "stream",
     "text": [
      "(2886, 3135)\n",
      "(2886, 1)\n",
      "pourcentage: 0.65\n"
     ]
    }
   ],
   "source": [
    "print(xtrain.shape)\n",
    "print(ytrain.shape)\n",
    "print('pourcentage:' ,xtrain.shape[0]/finalTotalTab.shape[0])"
   ]
  },
  {
   "cell_type": "code",
   "execution_count": 45,
   "metadata": {},
   "outputs": [],
   "source": [
    "from sklearn.tree import DecisionTreeClassifier\n",
    "\n",
    "Arbre_decision = DecisionTreeClassifier(random_state=0, max_depth=20)"
   ]
  },
  {
   "cell_type": "code",
   "execution_count": 46,
   "metadata": {},
   "outputs": [],
   "source": [
    "clf = Arbre_decision.fit(xtrain, ytrain)"
   ]
  },
  {
   "cell_type": "code",
   "execution_count": 47,
   "metadata": {},
   "outputs": [
    {
     "data": {
      "text/plain": [
       "0.9086229086229086"
      ]
     },
     "execution_count": 47,
     "metadata": {},
     "output_type": "execute_result"
    }
   ],
   "source": [
    "from sklearn.metrics import accuracy_score\n",
    "\n",
    "ypredit = clf.predict(xtest)\n",
    "accuracy_score(ytest, ypredit)"
   ]
  },
  {
   "cell_type": "code",
   "execution_count": 48,
   "metadata": {},
   "outputs": [
    {
     "name": "stdout",
     "output_type": "stream",
     "text": [
      "[[713  82]\n",
      " [ 60 699]]\n"
     ]
    }
   ],
   "source": [
    "from sklearn import metrics\n",
    "\n",
    "print(metrics.confusion_matrix(ytest, ypredit))"
   ]
  },
  {
   "cell_type": "code",
   "execution_count": 51,
   "metadata": {},
   "outputs": [
    {
     "name": "stderr",
     "output_type": "stream",
     "text": [
      "/usr/local/lib/python3.7/dist-packages/ipykernel_launcher.py:3: DataConversionWarning: A column-vector y was passed when a 1d array was expected. Please change the shape of y to (n_samples, ), for example using ravel().\n",
      "  This is separate from the ipykernel package so we can avoid doing imports until\n"
     ]
    },
    {
     "name": "stdout",
     "output_type": "stream",
     "text": [
      "[[721  74]\n",
      " [ 72 687]]\n"
     ]
    }
   ],
   "source": [
    "from sklearn.neighbors import KNeighborsClassifier\n",
    "KNN = KNeighborsClassifier()\n",
    "clf = KNN .fit(xtrain, ytrain)\n",
    "ypredit = clf.predict(xtest)\n",
    "accuracy_score(ytest, ypredit)\n",
    "print(metrics.confusion_matrix(ytest, ypredit))"
   ]
  },
  {
   "cell_type": "code",
   "execution_count": null,
   "metadata": {},
   "outputs": [],
   "source": []
  }
 ],
 "metadata": {
  "kernelspec": {
   "display_name": "Python 3",
   "language": "python",
   "name": "python3"
  },
  "language_info": {
   "codemirror_mode": {
    "name": "ipython",
    "version": 3
   },
   "file_extension": ".py",
   "mimetype": "text/x-python",
   "name": "python",
   "nbconvert_exporter": "python",
   "pygments_lexer": "ipython3",
   "version": "3.7.3"
  }
 },
 "nbformat": 4,
 "nbformat_minor": 2
}
